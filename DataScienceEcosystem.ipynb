{
  "metadata": {
    "language_info": {
      "codemirror_mode": {
        "name": "python",
        "version": 3
      },
      "file_extension": ".py",
      "mimetype": "text/x-python",
      "name": "python",
      "nbconvert_exporter": "python",
      "pygments_lexer": "ipython3",
      "version": "3.8"
    },
    "kernelspec": {
      "name": "python",
      "display_name": "Python (Pyodide)",
      "language": "python"
    }
  },
  "nbformat_minor": 4,
  "nbformat": 4,
  "cells": [
    {
      "cell_type": "markdown",
      "source": "# Data Science Tools and Ecosystem",
      "metadata": {}
    },
    {
      "cell_type": "markdown",
      "source": "## Introduction\n\nIn this notebook, Data Science Tools and Ecosystem are summarized.",
      "metadata": {}
    },
    {
      "cell_type": "markdown",
      "source": "## Some of the popular languages that Data Scientists use are:\n\n1. Python\n2. R\n3. SQL",
      "metadata": {}
    },
    {
      "cell_type": "markdown",
      "source": "## Some of the commonly used libraries used by Data Scientists include:\n\n1. NumPy\n2. Pandas\n3. Matplotlib",
      "metadata": {}
    },
    {
      "cell_type": "markdown",
      "source": "## Data Science Tools\n\n| Development Environment |\n|------------------------|\n| Jupyter Notebook       |\n| RStudio                |\n| Visual Studio Code     |",
      "metadata": {}
    },
    {
      "cell_type": "markdown",
      "source": "## Arithmetic Expression Examples\n\n### Below are a few examples of evaluating arithmetic expressions in Python.\n\n1. Addition: `2 + 3`\n2. Subtraction: `5 - 2`\n3. Multiplication: `4 * 6`\n4. Division: `10 / 2`\n5. Mixed Operations: `(3 + 2) * 4 - 6 / 2`\n",
      "metadata": {}
    },
    {
      "cell_type": "code",
      "source": "# This is a simple arithmetic expression to multiply then add integers.\nresult = (3 * 4) + 5\nprint(\"The result of (3 * 4) + 5 is:\", result)",
      "metadata": {
        "trusted": true
      },
      "execution_count": 6,
      "outputs": [
        {
          "name": "stdout",
          "text": "The result of (3 * 4) + 5 is: 17\n",
          "output_type": "stream"
        }
      ]
    },
    {
      "cell_type": "code",
      "source": "# This will convert 200 minutes to hours by dividing by 60.\nminutes = 200\nhours = minutes / 60\nprint(\"200 minutes is equal to\", hours, \"hours\")",
      "metadata": {
        "trusted": true
      },
      "execution_count": 7,
      "outputs": [
        {
          "name": "stdout",
          "text": "200 minutes is equal to 3.3333333333333335 hours\n",
          "output_type": "stream"
        }
      ]
    },
    {
      "cell_type": "markdown",
      "source": "## Objectives:\n\n**Key Takeaways from this Notebook:**\n\n- List popular data science languages.\n- Explore essential data science libraries for data manipulation and visualization.\n- Present a comprehensive table of data science tools with their respective categories and languages.\n- Provide examples of basic arithmetic expressions using Python code.\n- Demonstrate how to perform multiplication and addition operations in Python.\n- Create a code example to convert minutes to hours using a custom function.\n",
      "metadata": {}
    },
    {
      "cell_type": "markdown",
      "source": "## Author\n\nThi Phan",
      "metadata": {
        "tags": []
      }
    }
  ]
}